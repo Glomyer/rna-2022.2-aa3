{
 "cells": [
  {
   "cell_type": "code",
   "execution_count": 45,
   "id": "9598a922",
   "metadata": {},
   "outputs": [],
   "source": [
    "import os\n",
    "import pandas as pd\n",
    "from matplotlib import pyplot as plt\n",
    "\n",
    "# Mostra todas as colunas d dataframe\n",
    "pd.set_option('display.max_columns', None)"
   ]
  },
  {
   "cell_type": "markdown",
   "id": "b0f2e7b0",
   "metadata": {},
   "source": [
    "# Abertura do Dataset"
   ]
  },
  {
   "cell_type": "code",
   "execution_count": 46,
   "id": "90924d6b",
   "metadata": {},
   "outputs": [],
   "source": [
    "data_path = os.path.join(\"data\", \"mushrooms.csv\")\n",
    "header_path = os.path.join(\"data\", \"names.txt\")\n",
    "\n",
    "with open(header_path, 'r') as f:\n",
    "    header = [line.strip() for line in f]\n",
    "\n",
    "data = pd.read_csv(data_path, header=None)\n",
    "data.columns = header"
   ]
  },
  {
   "cell_type": "code",
   "execution_count": 47,
   "id": "de4cc7e4",
   "metadata": {
    "scrolled": true
   },
   "outputs": [
    {
     "data": {
      "text/html": [
       "<div>\n",
       "<style scoped>\n",
       "    .dataframe tbody tr th:only-of-type {\n",
       "        vertical-align: middle;\n",
       "    }\n",
       "\n",
       "    .dataframe tbody tr th {\n",
       "        vertical-align: top;\n",
       "    }\n",
       "\n",
       "    .dataframe thead th {\n",
       "        text-align: right;\n",
       "    }\n",
       "</style>\n",
       "<table border=\"1\" class=\"dataframe\">\n",
       "  <thead>\n",
       "    <tr style=\"text-align: right;\">\n",
       "      <th></th>\n",
       "      <th>is-edible</th>\n",
       "      <th>cap-shape</th>\n",
       "      <th>cap-surface</th>\n",
       "      <th>cap-color</th>\n",
       "      <th>has-bruises</th>\n",
       "      <th>odor</th>\n",
       "      <th>gill-attachment</th>\n",
       "      <th>gill-spacing</th>\n",
       "      <th>gill-size</th>\n",
       "      <th>gill-color</th>\n",
       "      <th>stalk-shape</th>\n",
       "      <th>stalk-root</th>\n",
       "      <th>stalk-surface-above-ring</th>\n",
       "      <th>stalk-surface-below-ring</th>\n",
       "      <th>stalk-color-above-ring</th>\n",
       "      <th>stalk-color-below-ring</th>\n",
       "      <th>veil-type</th>\n",
       "      <th>veil-color</th>\n",
       "      <th>ring-number</th>\n",
       "      <th>ring-type</th>\n",
       "      <th>spore-print-color</th>\n",
       "      <th>population</th>\n",
       "      <th>habitat</th>\n",
       "    </tr>\n",
       "  </thead>\n",
       "  <tbody>\n",
       "    <tr>\n",
       "      <th>0</th>\n",
       "      <td>EDIBLE</td>\n",
       "      <td>CONVEX</td>\n",
       "      <td>SMOOTH</td>\n",
       "      <td>WHITE</td>\n",
       "      <td>BRUISES</td>\n",
       "      <td>ALMOND</td>\n",
       "      <td>FREE</td>\n",
       "      <td>CROWDED</td>\n",
       "      <td>NARROW</td>\n",
       "      <td>WHITE</td>\n",
       "      <td>TAPERING</td>\n",
       "      <td>BULBOUS</td>\n",
       "      <td>SMOOTH</td>\n",
       "      <td>SMOOTH</td>\n",
       "      <td>WHITE</td>\n",
       "      <td>WHITE</td>\n",
       "      <td>PARTIAL</td>\n",
       "      <td>WHITE</td>\n",
       "      <td>ONE</td>\n",
       "      <td>PENDANT</td>\n",
       "      <td>PURPLE</td>\n",
       "      <td>SEVERAL</td>\n",
       "      <td>WOODS</td>\n",
       "    </tr>\n",
       "    <tr>\n",
       "      <th>1</th>\n",
       "      <td>EDIBLE</td>\n",
       "      <td>CONVEX</td>\n",
       "      <td>SMOOTH</td>\n",
       "      <td>WHITE</td>\n",
       "      <td>BRUISES</td>\n",
       "      <td>ALMOND</td>\n",
       "      <td>FREE</td>\n",
       "      <td>CROWDED</td>\n",
       "      <td>NARROW</td>\n",
       "      <td>WHITE</td>\n",
       "      <td>TAPERING</td>\n",
       "      <td>BULBOUS</td>\n",
       "      <td>SMOOTH</td>\n",
       "      <td>SMOOTH</td>\n",
       "      <td>WHITE</td>\n",
       "      <td>WHITE</td>\n",
       "      <td>PARTIAL</td>\n",
       "      <td>WHITE</td>\n",
       "      <td>ONE</td>\n",
       "      <td>PENDANT</td>\n",
       "      <td>BROWN</td>\n",
       "      <td>SEVERAL</td>\n",
       "      <td>WOODS</td>\n",
       "    </tr>\n",
       "    <tr>\n",
       "      <th>2</th>\n",
       "      <td>EDIBLE</td>\n",
       "      <td>CONVEX</td>\n",
       "      <td>SMOOTH</td>\n",
       "      <td>WHITE</td>\n",
       "      <td>BRUISES</td>\n",
       "      <td>ALMOND</td>\n",
       "      <td>FREE</td>\n",
       "      <td>CROWDED</td>\n",
       "      <td>NARROW</td>\n",
       "      <td>PINK</td>\n",
       "      <td>TAPERING</td>\n",
       "      <td>BULBOUS</td>\n",
       "      <td>SMOOTH</td>\n",
       "      <td>SMOOTH</td>\n",
       "      <td>WHITE</td>\n",
       "      <td>WHITE</td>\n",
       "      <td>PARTIAL</td>\n",
       "      <td>WHITE</td>\n",
       "      <td>ONE</td>\n",
       "      <td>PENDANT</td>\n",
       "      <td>PURPLE</td>\n",
       "      <td>SEVERAL</td>\n",
       "      <td>WOODS</td>\n",
       "    </tr>\n",
       "    <tr>\n",
       "      <th>3</th>\n",
       "      <td>EDIBLE</td>\n",
       "      <td>CONVEX</td>\n",
       "      <td>SMOOTH</td>\n",
       "      <td>WHITE</td>\n",
       "      <td>BRUISES</td>\n",
       "      <td>ALMOND</td>\n",
       "      <td>FREE</td>\n",
       "      <td>CROWDED</td>\n",
       "      <td>NARROW</td>\n",
       "      <td>PINK</td>\n",
       "      <td>TAPERING</td>\n",
       "      <td>BULBOUS</td>\n",
       "      <td>SMOOTH</td>\n",
       "      <td>SMOOTH</td>\n",
       "      <td>WHITE</td>\n",
       "      <td>WHITE</td>\n",
       "      <td>PARTIAL</td>\n",
       "      <td>WHITE</td>\n",
       "      <td>ONE</td>\n",
       "      <td>PENDANT</td>\n",
       "      <td>BROWN</td>\n",
       "      <td>SEVERAL</td>\n",
       "      <td>WOODS</td>\n",
       "    </tr>\n",
       "    <tr>\n",
       "      <th>4</th>\n",
       "      <td>EDIBLE</td>\n",
       "      <td>CONVEX</td>\n",
       "      <td>SMOOTH</td>\n",
       "      <td>WHITE</td>\n",
       "      <td>BRUISES</td>\n",
       "      <td>ALMOND</td>\n",
       "      <td>FREE</td>\n",
       "      <td>CROWDED</td>\n",
       "      <td>NARROW</td>\n",
       "      <td>BROWN</td>\n",
       "      <td>TAPERING</td>\n",
       "      <td>BULBOUS</td>\n",
       "      <td>SMOOTH</td>\n",
       "      <td>SMOOTH</td>\n",
       "      <td>WHITE</td>\n",
       "      <td>WHITE</td>\n",
       "      <td>PARTIAL</td>\n",
       "      <td>WHITE</td>\n",
       "      <td>ONE</td>\n",
       "      <td>PENDANT</td>\n",
       "      <td>PURPLE</td>\n",
       "      <td>SEVERAL</td>\n",
       "      <td>WOODS</td>\n",
       "    </tr>\n",
       "  </tbody>\n",
       "</table>\n",
       "</div>"
      ],
      "text/plain": [
       "  is-edible cap-shape cap-surface cap-color has-bruises    odor  \\\n",
       "0    EDIBLE    CONVEX      SMOOTH     WHITE     BRUISES  ALMOND   \n",
       "1    EDIBLE    CONVEX      SMOOTH     WHITE     BRUISES  ALMOND   \n",
       "2    EDIBLE    CONVEX      SMOOTH     WHITE     BRUISES  ALMOND   \n",
       "3    EDIBLE    CONVEX      SMOOTH     WHITE     BRUISES  ALMOND   \n",
       "4    EDIBLE    CONVEX      SMOOTH     WHITE     BRUISES  ALMOND   \n",
       "\n",
       "  gill-attachment gill-spacing gill-size gill-color stalk-shape stalk-root  \\\n",
       "0            FREE      CROWDED    NARROW      WHITE    TAPERING    BULBOUS   \n",
       "1            FREE      CROWDED    NARROW      WHITE    TAPERING    BULBOUS   \n",
       "2            FREE      CROWDED    NARROW       PINK    TAPERING    BULBOUS   \n",
       "3            FREE      CROWDED    NARROW       PINK    TAPERING    BULBOUS   \n",
       "4            FREE      CROWDED    NARROW      BROWN    TAPERING    BULBOUS   \n",
       "\n",
       "  stalk-surface-above-ring stalk-surface-below-ring stalk-color-above-ring  \\\n",
       "0                   SMOOTH                   SMOOTH                  WHITE   \n",
       "1                   SMOOTH                   SMOOTH                  WHITE   \n",
       "2                   SMOOTH                   SMOOTH                  WHITE   \n",
       "3                   SMOOTH                   SMOOTH                  WHITE   \n",
       "4                   SMOOTH                   SMOOTH                  WHITE   \n",
       "\n",
       "  stalk-color-below-ring veil-type veil-color ring-number ring-type  \\\n",
       "0                  WHITE   PARTIAL      WHITE         ONE   PENDANT   \n",
       "1                  WHITE   PARTIAL      WHITE         ONE   PENDANT   \n",
       "2                  WHITE   PARTIAL      WHITE         ONE   PENDANT   \n",
       "3                  WHITE   PARTIAL      WHITE         ONE   PENDANT   \n",
       "4                  WHITE   PARTIAL      WHITE         ONE   PENDANT   \n",
       "\n",
       "  spore-print-color population habitat  \n",
       "0            PURPLE    SEVERAL   WOODS  \n",
       "1             BROWN    SEVERAL   WOODS  \n",
       "2            PURPLE    SEVERAL   WOODS  \n",
       "3             BROWN    SEVERAL   WOODS  \n",
       "4            PURPLE    SEVERAL   WOODS  "
      ]
     },
     "execution_count": 47,
     "metadata": {},
     "output_type": "execute_result"
    }
   ],
   "source": [
    "data.head()"
   ]
  },
  {
   "cell_type": "markdown",
   "id": "d0960f28",
   "metadata": {},
   "source": [
    "# Conhecendo o dataset\n",
    "\n",
    "## Quais as dimensões do dataset?"
   ]
  },
  {
   "cell_type": "code",
   "execution_count": 48,
   "id": "db4d347a",
   "metadata": {},
   "outputs": [
    {
     "data": {
      "text/plain": [
       "(8416, 23)"
      ]
     },
     "execution_count": 48,
     "metadata": {},
     "output_type": "execute_result"
    }
   ],
   "source": [
    "data.shape"
   ]
  },
  {
   "cell_type": "markdown",
   "id": "9ef20dd3",
   "metadata": {},
   "source": [
    "O dataset é composto de 8416 linhas e 23 colunas."
   ]
  },
  {
   "cell_type": "markdown",
   "id": "c6143dbf",
   "metadata": {},
   "source": [
    "## Quais os atributos existentes no dataset e seus tipos?"
   ]
  },
  {
   "cell_type": "code",
   "execution_count": 49,
   "id": "44969434",
   "metadata": {},
   "outputs": [
    {
     "data": {
      "text/plain": [
       "is-edible                   object\n",
       "cap-shape                   object\n",
       "cap-surface                 object\n",
       "cap-color                   object\n",
       "has-bruises                 object\n",
       "odor                        object\n",
       "gill-attachment             object\n",
       "gill-spacing                object\n",
       "gill-size                   object\n",
       "gill-color                  object\n",
       "stalk-shape                 object\n",
       "stalk-root                  object\n",
       "stalk-surface-above-ring    object\n",
       "stalk-surface-below-ring    object\n",
       "stalk-color-above-ring      object\n",
       "stalk-color-below-ring      object\n",
       "veil-type                   object\n",
       "veil-color                  object\n",
       "ring-number                 object\n",
       "ring-type                   object\n",
       "spore-print-color           object\n",
       "population                  object\n",
       "habitat                     object\n",
       "dtype: object"
      ]
     },
     "execution_count": 49,
     "metadata": {},
     "output_type": "execute_result"
    }
   ],
   "source": [
    "data.dtypes"
   ]
  },
  {
   "cell_type": "markdown",
   "id": "7d409bb5",
   "metadata": {},
   "source": [
    "Todos os atributos existentes no dataset são do tipo String. Os atributos estão relacionados a características do cogumelo como, por exemplo, se este o comestível ou venenoso, seu habitat, odor, formato do chapéu, brânquias, talo, etc."
   ]
  },
  {
   "cell_type": "markdown",
   "id": "c783ee89",
   "metadata": {},
   "source": [
    "## Há dados faltantes no dataset?\n",
    "\n",
    "Dados faltantes neste dataset possuem \"?\" como valor em seu atributo, mas isto só ocorre no atributo n° 11: \"stalk-root\"."
   ]
  },
  {
   "cell_type": "code",
   "execution_count": 50,
   "id": "f16c66bf",
   "metadata": {
    "scrolled": false
   },
   "outputs": [
    {
     "data": {
      "text/plain": [
       "is-edible                      0\n",
       "cap-shape                      0\n",
       "cap-surface                    0\n",
       "cap-color                      0\n",
       "has-bruises                    0\n",
       "odor                           0\n",
       "gill-attachment                0\n",
       "gill-spacing                   0\n",
       "gill-size                      0\n",
       "gill-color                     0\n",
       "stalk-shape                    0\n",
       "stalk-root                  2480\n",
       "stalk-surface-above-ring       0\n",
       "stalk-surface-below-ring       0\n",
       "stalk-color-above-ring         0\n",
       "stalk-color-below-ring         0\n",
       "veil-type                      0\n",
       "veil-color                     0\n",
       "ring-number                    0\n",
       "ring-type                      0\n",
       "spore-print-color              0\n",
       "population                     0\n",
       "habitat                        0\n",
       "dtype: int64"
      ]
     },
     "execution_count": 50,
     "metadata": {},
     "output_type": "execute_result"
    }
   ],
   "source": [
    "data.eq(\"?\").sum()"
   ]
  },
  {
   "cell_type": "markdown",
   "id": "790efc18",
   "metadata": {},
   "source": [
    "Uma estratégia para tratar esse problema é retirar todas as linhas que possuem um dado faltante ou remover completamente a coluna \"stalk-root\".\n",
    "\n",
    "Devido ao alto número de instâncias (2480) com \"?\", optamos por remover a coluna \"stalk-root\"."
   ]
  },
  {
   "cell_type": "code",
   "execution_count": 51,
   "id": "06300cda",
   "metadata": {},
   "outputs": [
    {
     "data": {
      "text/plain": [
       "(8416, 22)"
      ]
     },
     "execution_count": 51,
     "metadata": {},
     "output_type": "execute_result"
    }
   ],
   "source": [
    "data = data.drop('stalk-root', axis=1)\n",
    "data.shape"
   ]
  },
  {
   "cell_type": "markdown",
   "id": "831a7084",
   "metadata": {},
   "source": [
    "## O atributo-alvo\n",
    "O atributo alvo desse dataset se chama \"is-edible\". Abaixo os valores possíveis para este atributo e suas frequências."
   ]
  },
  {
   "cell_type": "code",
   "execution_count": 52,
   "id": "b6b9b191",
   "metadata": {},
   "outputs": [
    {
     "data": {
      "text/plain": [
       "EDIBLE       4488\n",
       "POISONOUS    3928\n",
       "Name: is-edible, dtype: int64"
      ]
     },
     "execution_count": 52,
     "metadata": {},
     "output_type": "execute_result"
    }
   ],
   "source": [
    "edibility = data['is-edible']\n",
    "edibility.value_counts()"
   ]
  }
 ],
 "metadata": {
  "kernelspec": {
   "display_name": "Python 3 (ipykernel)",
   "language": "python",
   "name": "python3"
  },
  "language_info": {
   "codemirror_mode": {
    "name": "ipython",
    "version": 3
   },
   "file_extension": ".py",
   "mimetype": "text/x-python",
   "name": "python",
   "nbconvert_exporter": "python",
   "pygments_lexer": "ipython3",
   "version": "3.9.13"
  }
 },
 "nbformat": 4,
 "nbformat_minor": 5
}
